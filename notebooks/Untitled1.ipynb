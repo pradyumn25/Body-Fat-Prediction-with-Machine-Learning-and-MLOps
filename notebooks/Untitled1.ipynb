{
 "cells": [
  {
   "cell_type": "code",
   "execution_count": 5,
   "id": "3355cd6a-921c-40b5-93ae-567fe888a2d3",
   "metadata": {},
   "outputs": [
    {
     "ename": "TypeError",
     "evalue": "object of type 'int' has no len()",
     "output_type": "error",
     "traceback": [
      "\u001b[0;31m---------------------------------------------------------------------------\u001b[0m",
      "\u001b[0;31mTypeError\u001b[0m                                 Traceback (most recent call last)",
      "Cell \u001b[0;32mIn[5], line 47\u001b[0m\n\u001b[1;32m     40\u001b[0m             logged_model \u001b[38;5;241m=\u001b[39m mv[\u001b[38;5;124m'\u001b[39m\u001b[38;5;124msource\u001b[39m\u001b[38;5;124m'\u001b[39m]\n\u001b[1;32m     41\u001b[0m             client\u001b[38;5;241m.\u001b[39mtransition_model_version_stage(\n\u001b[1;32m     42\u001b[0m                 name \u001b[38;5;241m=\u001b[39m model_name,\n\u001b[1;32m     43\u001b[0m                 version\u001b[38;5;241m=\u001b[39mcurrent_version,\n\u001b[1;32m     44\u001b[0m                 stage\u001b[38;5;241m=\u001b[39m\u001b[38;5;124m'\u001b[39m\u001b[38;5;124mStaging\u001b[39m\u001b[38;5;124m'\u001b[39m\n\u001b[1;32m     45\u001b[0m             )\n\u001b[0;32m---> 47\u001b[0m \u001b[43mlog_production_model\u001b[49m\u001b[43m(\u001b[49m\u001b[38;5;124;43m'\u001b[39;49m\u001b[38;5;124;43m../params.yaml\u001b[39;49m\u001b[38;5;124;43m'\u001b[39;49m\u001b[43m)\u001b[49m\n",
      "Cell \u001b[0;32mIn[5], line 19\u001b[0m, in \u001b[0;36mlog_production_model\u001b[0;34m(config_path)\u001b[0m\n\u001b[1;32m     15\u001b[0m remote_server_uri \u001b[38;5;241m=\u001b[39m mlflow_config[\u001b[38;5;124m'\u001b[39m\u001b[38;5;124mremote_server_uri\u001b[39m\u001b[38;5;124m'\u001b[39m]\n\u001b[1;32m     17\u001b[0m mlflow\u001b[38;5;241m.\u001b[39mset_registry_uri(remote_server_uri)\n\u001b[0;32m---> 19\u001b[0m runs \u001b[38;5;241m=\u001b[39m \u001b[43mmlflow\u001b[49m\u001b[38;5;241;43m.\u001b[39;49m\u001b[43msearch_runs\u001b[49m\u001b[43m(\u001b[49m\u001b[43mexperiment_ids\u001b[49m\u001b[43m \u001b[49m\u001b[38;5;241;43m=\u001b[39;49m\u001b[43m \u001b[49m\u001b[38;5;241;43m1\u001b[39;49m\u001b[43m)\u001b[49m \u001b[38;5;66;03m# 1 because in the artifacts we have the folder name as 1\u001b[39;00m\n\u001b[1;32m     20\u001b[0m \u001b[38;5;66;03m# 0 is for the default and there can be more than one depending upon the number of experiments we have\u001b[39;00m\n\u001b[1;32m     22\u001b[0m lowest \u001b[38;5;241m=\u001b[39m runs[\u001b[38;5;124m'\u001b[39m\u001b[38;5;124mmetrics.mae\u001b[39m\u001b[38;5;124m'\u001b[39m]\u001b[38;5;241m.\u001b[39msort_values(ascending\u001b[38;5;241m=\u001b[39m\u001b[38;5;28;01mTrue\u001b[39;00m)\n",
      "File \u001b[0;32m~/.conda/envs/new_main/lib/python3.11/site-packages/mlflow/tracking/fluent.py:1634\u001b[0m, in \u001b[0;36msearch_runs\u001b[0;34m(experiment_ids, filter_string, run_view_type, max_results, order_by, output_format, search_all_experiments, experiment_names)\u001b[0m\n\u001b[1;32m   1545\u001b[0m \u001b[38;5;28;01mdef\u001b[39;00m \u001b[38;5;21msearch_runs\u001b[39m(\n\u001b[1;32m   1546\u001b[0m     experiment_ids: Optional[List[\u001b[38;5;28mstr\u001b[39m]] \u001b[38;5;241m=\u001b[39m \u001b[38;5;28;01mNone\u001b[39;00m,\n\u001b[1;32m   1547\u001b[0m     filter_string: \u001b[38;5;28mstr\u001b[39m \u001b[38;5;241m=\u001b[39m \u001b[38;5;124m\"\u001b[39m\u001b[38;5;124m\"\u001b[39m,\n\u001b[0;32m   (...)\u001b[0m\n\u001b[1;32m   1553\u001b[0m     experiment_names: Optional[List[\u001b[38;5;28mstr\u001b[39m]] \u001b[38;5;241m=\u001b[39m \u001b[38;5;28;01mNone\u001b[39;00m,\n\u001b[1;32m   1554\u001b[0m ) \u001b[38;5;241m-\u001b[39m\u001b[38;5;241m>\u001b[39m Union[List[Run], \u001b[38;5;124m\"\u001b[39m\u001b[38;5;124mpandas.DataFrame\u001b[39m\u001b[38;5;124m\"\u001b[39m]:\n\u001b[1;32m   1555\u001b[0m \u001b[38;5;250m    \u001b[39m\u001b[38;5;124;03m\"\"\"\u001b[39;00m\n\u001b[1;32m   1556\u001b[0m \u001b[38;5;124;03m    Search for Runs that fit the specified criteria.\u001b[39;00m\n\u001b[1;32m   1557\u001b[0m \n\u001b[0;32m   (...)\u001b[0m\n\u001b[1;32m   1632\u001b[0m \u001b[38;5;124;03m        1       1.55       1.1.0-RC  5cc7feaf532f496f885ad7750809c4d4\u001b[39;00m\n\u001b[1;32m   1633\u001b[0m \u001b[38;5;124;03m    \"\"\"\u001b[39;00m\n\u001b[0;32m-> 1634\u001b[0m     no_ids \u001b[38;5;241m=\u001b[39m experiment_ids \u001b[38;5;129;01mis\u001b[39;00m \u001b[38;5;28;01mNone\u001b[39;00m \u001b[38;5;129;01mor\u001b[39;00m \u001b[38;5;28;43mlen\u001b[39;49m\u001b[43m(\u001b[49m\u001b[43mexperiment_ids\u001b[49m\u001b[43m)\u001b[49m \u001b[38;5;241m==\u001b[39m \u001b[38;5;241m0\u001b[39m\n\u001b[1;32m   1635\u001b[0m     no_names \u001b[38;5;241m=\u001b[39m experiment_names \u001b[38;5;129;01mis\u001b[39;00m \u001b[38;5;28;01mNone\u001b[39;00m \u001b[38;5;129;01mor\u001b[39;00m \u001b[38;5;28mlen\u001b[39m(experiment_names) \u001b[38;5;241m==\u001b[39m \u001b[38;5;241m0\u001b[39m\n\u001b[1;32m   1636\u001b[0m     no_ids_or_names \u001b[38;5;241m=\u001b[39m no_ids \u001b[38;5;129;01mand\u001b[39;00m no_names\n",
      "\u001b[0;31mTypeError\u001b[0m: object of type 'int' has no len()"
     ]
    }
   ],
   "source": [
    "from src.get_data import read_params\n",
    "import argparse\n",
    "import mlflow\n",
    "from mlflow.tracking import MlflowClient\n",
    "from pprint import pprint\n",
    "import os\n",
    "\n",
    "os.chdir('/home/pp/Desktop/Pradyumn Pundir/MLOps/new_main/notebooks')\n",
    "\n",
    "def log_production_model(config_path):\n",
    "    config = read_params(config_path)\n",
    "\n",
    "    mlflow_config = config['mlflow_config']\n",
    "    model_name = mlflow_config['registered_model_name']\n",
    "    remote_server_uri = mlflow_config['remote_server_uri']\n",
    "    \n",
    "    mlflow.set_registry_uri(remote_server_uri)\n",
    "\n",
    "    runs = mlflow.search_runs(experiment_ids = 1) # 1 because in the artifacts we have the folder name as 1\n",
    "    # 0 is for the default and there can be more than one depending upon the number of experiments we have\n",
    "\n",
    "    lowest = runs['metrics.mae'].sort_values(ascending=True)\n",
    "    lowest_run_id = runs[runs['metrics.mae'] == lowest]['run_id'][0]\n",
    "\n",
    "    client = MlflowClient()\n",
    "    for mv in client.search_model_versions(f\"name='{model_name}'\"):\n",
    "        mv = dict(mv)\n",
    "\n",
    "        if mv['run_id'] == lowest_run_id:\n",
    "            current_version = mv['version']\n",
    "            logged_model = mv['source']\n",
    "            pprint(mv, indent=4)\n",
    "            client.transition_model_version_stage(\n",
    "                name = model_name,\n",
    "                version=current_version,\n",
    "                stage='Production'\n",
    "            )\n",
    "        else:\n",
    "            current_version = mv['version']\n",
    "            logged_model = mv['source']\n",
    "            client.transition_model_version_stage(\n",
    "                name = model_name,\n",
    "                version=current_version,\n",
    "                stage='Staging'\n",
    "            )\n",
    "\n",
    "log_production_model('../params.yaml')"
   ]
  },
  {
   "cell_type": "code",
   "execution_count": 2,
   "id": "4bc244bf-74a2-476d-93ad-bf4431a2101e",
   "metadata": {},
   "outputs": [
    {
     "data": {
      "text/plain": [
       "'/home/pp/Desktop/Pradyumn Pundir/MLOps/new_main/notebooks'"
      ]
     },
     "execution_count": 2,
     "metadata": {},
     "output_type": "execute_result"
    }
   ],
   "source": [
    "pwd"
   ]
  },
  {
   "cell_type": "code",
   "execution_count": null,
   "id": "b27cadd5-9903-46dd-b373-eda6012f82c9",
   "metadata": {},
   "outputs": [],
   "source": []
  }
 ],
 "metadata": {
  "kernelspec": {
   "display_name": "Python 3 (ipykernel)",
   "language": "python",
   "name": "python3"
  },
  "language_info": {
   "codemirror_mode": {
    "name": "ipython",
    "version": 3
   },
   "file_extension": ".py",
   "mimetype": "text/x-python",
   "name": "python",
   "nbconvert_exporter": "python",
   "pygments_lexer": "ipython3",
   "version": "3.11.3"
  }
 },
 "nbformat": 4,
 "nbformat_minor": 5
}
